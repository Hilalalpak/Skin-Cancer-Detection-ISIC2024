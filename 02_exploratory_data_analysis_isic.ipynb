{
  "metadata": {
    "kernelspec": {
      "display_name": "Python 3",
      "name": "python3"
    },
    "language_info": {
      "name": "python",
      "version": "3.10.14",
      "mimetype": "text/x-python",
      "codemirror_mode": {
        "name": "ipython",
        "version": 3
      },
      "pygments_lexer": "ipython3",
      "nbconvert_exporter": "python",
      "file_extension": ".py"
    },
    "kaggle": {
      "accelerator": "nvidiaTeslaT4",
      "dataSources": [
        {
          "sourceId": 63056,
          "databundleVersionId": 9094797,
          "sourceType": "competition"
        }
      ],
      "dockerImageVersionId": 30787,
      "isInternetEnabled": true,
      "language": "python",
      "sourceType": "notebook",
      "isGpuEnabled": true
    },
    "colab": {
      "provenance": [],
      "machine_shape": "hm",
      "gpuType": "T4"
    },
    "accelerator": "GPU",
    "widgets": {
      "application/vnd.jupyter.widget-state+json": {
        "88da03327eb34cfbaef2f9af15048f74": {
          "model_module": "@jupyter-widgets/controls",
          "model_name": "VBoxModel",
          "model_module_version": "1.5.0",
          "state": {
            "_dom_classes": [],
            "_model_module": "@jupyter-widgets/controls",
            "_model_module_version": "1.5.0",
            "_model_name": "VBoxModel",
            "_view_count": null,
            "_view_module": "@jupyter-widgets/controls",
            "_view_module_version": "1.5.0",
            "_view_name": "VBoxView",
            "box_style": "",
            "children": [
              "IPY_MODEL_c685bb9f37274950b45ca55c4d648628"
            ],
            "layout": "IPY_MODEL_2b429db6f6964bef88e39dc8e66a8296"
          }
        },
        "69f511013e004750a7ef7b3b2e445ee6": {
          "model_module": "@jupyter-widgets/controls",
          "model_name": "HTMLModel",
          "model_module_version": "1.5.0",
          "state": {
            "_dom_classes": [],
            "_model_module": "@jupyter-widgets/controls",
            "_model_module_version": "1.5.0",
            "_model_name": "HTMLModel",
            "_view_count": null,
            "_view_module": "@jupyter-widgets/controls",
            "_view_module_version": "1.5.0",
            "_view_name": "HTMLView",
            "description": "",
            "description_tooltip": null,
            "layout": "IPY_MODEL_b73c07842faa4004b9ef2cc08e3a4fad",
            "placeholder": "​",
            "style": "IPY_MODEL_65d054eda7b64ad1b2e36a27abb6ef0a",
            "value": "<center> <img\nsrc=https://www.kaggle.com/static/images/site-logo.png\nalt='Kaggle'> <br> Create an API token from <a\nhref=\"https://www.kaggle.com/settings/account\" target=\"_blank\">your Kaggle\nsettings page</a> and paste it below along with your Kaggle username. <br> </center>"
          }
        },
        "f764795640fa49d794b8a1412b4bb02e": {
          "model_module": "@jupyter-widgets/controls",
          "model_name": "TextModel",
          "model_module_version": "1.5.0",
          "state": {
            "_dom_classes": [],
            "_model_module": "@jupyter-widgets/controls",
            "_model_module_version": "1.5.0",
            "_model_name": "TextModel",
            "_view_count": null,
            "_view_module": "@jupyter-widgets/controls",
            "_view_module_version": "1.5.0",
            "_view_name": "TextView",
            "continuous_update": true,
            "description": "Username:",
            "description_tooltip": null,
            "disabled": false,
            "layout": "IPY_MODEL_77d9182eefe748ddabd5b1c265f6a62a",
            "placeholder": "​",
            "style": "IPY_MODEL_a2ec8f3d59d543109f4a55eefca566e5",
            "value": "hilalalpak"
          }
        },
        "01f0244763e541d79321f6f87bd7c248": {
          "model_module": "@jupyter-widgets/controls",
          "model_name": "PasswordModel",
          "model_module_version": "1.5.0",
          "state": {
            "_dom_classes": [],
            "_model_module": "@jupyter-widgets/controls",
            "_model_module_version": "1.5.0",
            "_model_name": "PasswordModel",
            "_view_count": null,
            "_view_module": "@jupyter-widgets/controls",
            "_view_module_version": "1.5.0",
            "_view_name": "PasswordView",
            "continuous_update": true,
            "description": "Token:",
            "description_tooltip": null,
            "disabled": false,
            "layout": "IPY_MODEL_9daf521c1eb6480faa261c2580c05045",
            "placeholder": "​",
            "style": "IPY_MODEL_bbe9a495c5d74b63af673a9adbde3fcd",
            "value": ""
          }
        },
        "93031d4c52914a8ea0c2db4c467a8bc8": {
          "model_module": "@jupyter-widgets/controls",
          "model_name": "ButtonModel",
          "model_module_version": "1.5.0",
          "state": {
            "_dom_classes": [],
            "_model_module": "@jupyter-widgets/controls",
            "_model_module_version": "1.5.0",
            "_model_name": "ButtonModel",
            "_view_count": null,
            "_view_module": "@jupyter-widgets/controls",
            "_view_module_version": "1.5.0",
            "_view_name": "ButtonView",
            "button_style": "",
            "description": "Login",
            "disabled": false,
            "icon": "",
            "layout": "IPY_MODEL_610c2ff92adb48d4b33b1bb5dbd4cf66",
            "style": "IPY_MODEL_1841230a114c4767b7c1df5613e124e3",
            "tooltip": ""
          }
        },
        "edf4b44f7b484b4d9d86766c22c52804": {
          "model_module": "@jupyter-widgets/controls",
          "model_name": "HTMLModel",
          "model_module_version": "1.5.0",
          "state": {
            "_dom_classes": [],
            "_model_module": "@jupyter-widgets/controls",
            "_model_module_version": "1.5.0",
            "_model_name": "HTMLModel",
            "_view_count": null,
            "_view_module": "@jupyter-widgets/controls",
            "_view_module_version": "1.5.0",
            "_view_name": "HTMLView",
            "description": "",
            "description_tooltip": null,
            "layout": "IPY_MODEL_3b57b44bdd10483bae4c56a9bdc28542",
            "placeholder": "​",
            "style": "IPY_MODEL_96f831cb1b6b4e67ab7a88a8c990ddf4",
            "value": "\n<b>Thank You</b></center>"
          }
        },
        "2b429db6f6964bef88e39dc8e66a8296": {
          "model_module": "@jupyter-widgets/base",
          "model_name": "LayoutModel",
          "model_module_version": "1.2.0",
          "state": {
            "_model_module": "@jupyter-widgets/base",
            "_model_module_version": "1.2.0",
            "_model_name": "LayoutModel",
            "_view_count": null,
            "_view_module": "@jupyter-widgets/base",
            "_view_module_version": "1.2.0",
            "_view_name": "LayoutView",
            "align_content": null,
            "align_items": "center",
            "align_self": null,
            "border": null,
            "bottom": null,
            "display": "flex",
            "flex": null,
            "flex_flow": "column",
            "grid_area": null,
            "grid_auto_columns": null,
            "grid_auto_flow": null,
            "grid_auto_rows": null,
            "grid_column": null,
            "grid_gap": null,
            "grid_row": null,
            "grid_template_areas": null,
            "grid_template_columns": null,
            "grid_template_rows": null,
            "height": null,
            "justify_content": null,
            "justify_items": null,
            "left": null,
            "margin": null,
            "max_height": null,
            "max_width": null,
            "min_height": null,
            "min_width": null,
            "object_fit": null,
            "object_position": null,
            "order": null,
            "overflow": null,
            "overflow_x": null,
            "overflow_y": null,
            "padding": null,
            "right": null,
            "top": null,
            "visibility": null,
            "width": "50%"
          }
        },
        "b73c07842faa4004b9ef2cc08e3a4fad": {
          "model_module": "@jupyter-widgets/base",
          "model_name": "LayoutModel",
          "model_module_version": "1.2.0",
          "state": {
            "_model_module": "@jupyter-widgets/base",
            "_model_module_version": "1.2.0",
            "_model_name": "LayoutModel",
            "_view_count": null,
            "_view_module": "@jupyter-widgets/base",
            "_view_module_version": "1.2.0",
            "_view_name": "LayoutView",
            "align_content": null,
            "align_items": null,
            "align_self": null,
            "border": null,
            "bottom": null,
            "display": null,
            "flex": null,
            "flex_flow": null,
            "grid_area": null,
            "grid_auto_columns": null,
            "grid_auto_flow": null,
            "grid_auto_rows": null,
            "grid_column": null,
            "grid_gap": null,
            "grid_row": null,
            "grid_template_areas": null,
            "grid_template_columns": null,
            "grid_template_rows": null,
            "height": null,
            "justify_content": null,
            "justify_items": null,
            "left": null,
            "margin": null,
            "max_height": null,
            "max_width": null,
            "min_height": null,
            "min_width": null,
            "object_fit": null,
            "object_position": null,
            "order": null,
            "overflow": null,
            "overflow_x": null,
            "overflow_y": null,
            "padding": null,
            "right": null,
            "top": null,
            "visibility": null,
            "width": null
          }
        },
        "65d054eda7b64ad1b2e36a27abb6ef0a": {
          "model_module": "@jupyter-widgets/controls",
          "model_name": "DescriptionStyleModel",
          "model_module_version": "1.5.0",
          "state": {
            "_model_module": "@jupyter-widgets/controls",
            "_model_module_version": "1.5.0",
            "_model_name": "DescriptionStyleModel",
            "_view_count": null,
            "_view_module": "@jupyter-widgets/base",
            "_view_module_version": "1.2.0",
            "_view_name": "StyleView",
            "description_width": ""
          }
        },
        "77d9182eefe748ddabd5b1c265f6a62a": {
          "model_module": "@jupyter-widgets/base",
          "model_name": "LayoutModel",
          "model_module_version": "1.2.0",
          "state": {
            "_model_module": "@jupyter-widgets/base",
            "_model_module_version": "1.2.0",
            "_model_name": "LayoutModel",
            "_view_count": null,
            "_view_module": "@jupyter-widgets/base",
            "_view_module_version": "1.2.0",
            "_view_name": "LayoutView",
            "align_content": null,
            "align_items": null,
            "align_self": null,
            "border": null,
            "bottom": null,
            "display": null,
            "flex": null,
            "flex_flow": null,
            "grid_area": null,
            "grid_auto_columns": null,
            "grid_auto_flow": null,
            "grid_auto_rows": null,
            "grid_column": null,
            "grid_gap": null,
            "grid_row": null,
            "grid_template_areas": null,
            "grid_template_columns": null,
            "grid_template_rows": null,
            "height": null,
            "justify_content": null,
            "justify_items": null,
            "left": null,
            "margin": null,
            "max_height": null,
            "max_width": null,
            "min_height": null,
            "min_width": null,
            "object_fit": null,
            "object_position": null,
            "order": null,
            "overflow": null,
            "overflow_x": null,
            "overflow_y": null,
            "padding": null,
            "right": null,
            "top": null,
            "visibility": null,
            "width": null
          }
        },
        "a2ec8f3d59d543109f4a55eefca566e5": {
          "model_module": "@jupyter-widgets/controls",
          "model_name": "DescriptionStyleModel",
          "model_module_version": "1.5.0",
          "state": {
            "_model_module": "@jupyter-widgets/controls",
            "_model_module_version": "1.5.0",
            "_model_name": "DescriptionStyleModel",
            "_view_count": null,
            "_view_module": "@jupyter-widgets/base",
            "_view_module_version": "1.2.0",
            "_view_name": "StyleView",
            "description_width": ""
          }
        },
        "9daf521c1eb6480faa261c2580c05045": {
          "model_module": "@jupyter-widgets/base",
          "model_name": "LayoutModel",
          "model_module_version": "1.2.0",
          "state": {
            "_model_module": "@jupyter-widgets/base",
            "_model_module_version": "1.2.0",
            "_model_name": "LayoutModel",
            "_view_count": null,
            "_view_module": "@jupyter-widgets/base",
            "_view_module_version": "1.2.0",
            "_view_name": "LayoutView",
            "align_content": null,
            "align_items": null,
            "align_self": null,
            "border": null,
            "bottom": null,
            "display": null,
            "flex": null,
            "flex_flow": null,
            "grid_area": null,
            "grid_auto_columns": null,
            "grid_auto_flow": null,
            "grid_auto_rows": null,
            "grid_column": null,
            "grid_gap": null,
            "grid_row": null,
            "grid_template_areas": null,
            "grid_template_columns": null,
            "grid_template_rows": null,
            "height": null,
            "justify_content": null,
            "justify_items": null,
            "left": null,
            "margin": null,
            "max_height": null,
            "max_width": null,
            "min_height": null,
            "min_width": null,
            "object_fit": null,
            "object_position": null,
            "order": null,
            "overflow": null,
            "overflow_x": null,
            "overflow_y": null,
            "padding": null,
            "right": null,
            "top": null,
            "visibility": null,
            "width": null
          }
        },
        "bbe9a495c5d74b63af673a9adbde3fcd": {
          "model_module": "@jupyter-widgets/controls",
          "model_name": "DescriptionStyleModel",
          "model_module_version": "1.5.0",
          "state": {
            "_model_module": "@jupyter-widgets/controls",
            "_model_module_version": "1.5.0",
            "_model_name": "DescriptionStyleModel",
            "_view_count": null,
            "_view_module": "@jupyter-widgets/base",
            "_view_module_version": "1.2.0",
            "_view_name": "StyleView",
            "description_width": ""
          }
        },
        "610c2ff92adb48d4b33b1bb5dbd4cf66": {
          "model_module": "@jupyter-widgets/base",
          "model_name": "LayoutModel",
          "model_module_version": "1.2.0",
          "state": {
            "_model_module": "@jupyter-widgets/base",
            "_model_module_version": "1.2.0",
            "_model_name": "LayoutModel",
            "_view_count": null,
            "_view_module": "@jupyter-widgets/base",
            "_view_module_version": "1.2.0",
            "_view_name": "LayoutView",
            "align_content": null,
            "align_items": null,
            "align_self": null,
            "border": null,
            "bottom": null,
            "display": null,
            "flex": null,
            "flex_flow": null,
            "grid_area": null,
            "grid_auto_columns": null,
            "grid_auto_flow": null,
            "grid_auto_rows": null,
            "grid_column": null,
            "grid_gap": null,
            "grid_row": null,
            "grid_template_areas": null,
            "grid_template_columns": null,
            "grid_template_rows": null,
            "height": null,
            "justify_content": null,
            "justify_items": null,
            "left": null,
            "margin": null,
            "max_height": null,
            "max_width": null,
            "min_height": null,
            "min_width": null,
            "object_fit": null,
            "object_position": null,
            "order": null,
            "overflow": null,
            "overflow_x": null,
            "overflow_y": null,
            "padding": null,
            "right": null,
            "top": null,
            "visibility": null,
            "width": null
          }
        },
        "1841230a114c4767b7c1df5613e124e3": {
          "model_module": "@jupyter-widgets/controls",
          "model_name": "ButtonStyleModel",
          "model_module_version": "1.5.0",
          "state": {
            "_model_module": "@jupyter-widgets/controls",
            "_model_module_version": "1.5.0",
            "_model_name": "ButtonStyleModel",
            "_view_count": null,
            "_view_module": "@jupyter-widgets/base",
            "_view_module_version": "1.2.0",
            "_view_name": "StyleView",
            "button_color": null,
            "font_weight": ""
          }
        },
        "3b57b44bdd10483bae4c56a9bdc28542": {
          "model_module": "@jupyter-widgets/base",
          "model_name": "LayoutModel",
          "model_module_version": "1.2.0",
          "state": {
            "_model_module": "@jupyter-widgets/base",
            "_model_module_version": "1.2.0",
            "_model_name": "LayoutModel",
            "_view_count": null,
            "_view_module": "@jupyter-widgets/base",
            "_view_module_version": "1.2.0",
            "_view_name": "LayoutView",
            "align_content": null,
            "align_items": null,
            "align_self": null,
            "border": null,
            "bottom": null,
            "display": null,
            "flex": null,
            "flex_flow": null,
            "grid_area": null,
            "grid_auto_columns": null,
            "grid_auto_flow": null,
            "grid_auto_rows": null,
            "grid_column": null,
            "grid_gap": null,
            "grid_row": null,
            "grid_template_areas": null,
            "grid_template_columns": null,
            "grid_template_rows": null,
            "height": null,
            "justify_content": null,
            "justify_items": null,
            "left": null,
            "margin": null,
            "max_height": null,
            "max_width": null,
            "min_height": null,
            "min_width": null,
            "object_fit": null,
            "object_position": null,
            "order": null,
            "overflow": null,
            "overflow_x": null,
            "overflow_y": null,
            "padding": null,
            "right": null,
            "top": null,
            "visibility": null,
            "width": null
          }
        },
        "96f831cb1b6b4e67ab7a88a8c990ddf4": {
          "model_module": "@jupyter-widgets/controls",
          "model_name": "DescriptionStyleModel",
          "model_module_version": "1.5.0",
          "state": {
            "_model_module": "@jupyter-widgets/controls",
            "_model_module_version": "1.5.0",
            "_model_name": "DescriptionStyleModel",
            "_view_count": null,
            "_view_module": "@jupyter-widgets/base",
            "_view_module_version": "1.2.0",
            "_view_name": "StyleView",
            "description_width": ""
          }
        },
        "b790e140d83446938490b489147f895b": {
          "model_module": "@jupyter-widgets/controls",
          "model_name": "LabelModel",
          "model_module_version": "1.5.0",
          "state": {
            "_dom_classes": [],
            "_model_module": "@jupyter-widgets/controls",
            "_model_module_version": "1.5.0",
            "_model_name": "LabelModel",
            "_view_count": null,
            "_view_module": "@jupyter-widgets/controls",
            "_view_module_version": "1.5.0",
            "_view_name": "LabelView",
            "description": "",
            "description_tooltip": null,
            "layout": "IPY_MODEL_2b3a3977316e4326ab92479e2070e1e7",
            "placeholder": "​",
            "style": "IPY_MODEL_0e490b81cbc045169587328c3c13677d",
            "value": "Connecting..."
          }
        },
        "2b3a3977316e4326ab92479e2070e1e7": {
          "model_module": "@jupyter-widgets/base",
          "model_name": "LayoutModel",
          "model_module_version": "1.2.0",
          "state": {
            "_model_module": "@jupyter-widgets/base",
            "_model_module_version": "1.2.0",
            "_model_name": "LayoutModel",
            "_view_count": null,
            "_view_module": "@jupyter-widgets/base",
            "_view_module_version": "1.2.0",
            "_view_name": "LayoutView",
            "align_content": null,
            "align_items": null,
            "align_self": null,
            "border": null,
            "bottom": null,
            "display": null,
            "flex": null,
            "flex_flow": null,
            "grid_area": null,
            "grid_auto_columns": null,
            "grid_auto_flow": null,
            "grid_auto_rows": null,
            "grid_column": null,
            "grid_gap": null,
            "grid_row": null,
            "grid_template_areas": null,
            "grid_template_columns": null,
            "grid_template_rows": null,
            "height": null,
            "justify_content": null,
            "justify_items": null,
            "left": null,
            "margin": null,
            "max_height": null,
            "max_width": null,
            "min_height": null,
            "min_width": null,
            "object_fit": null,
            "object_position": null,
            "order": null,
            "overflow": null,
            "overflow_x": null,
            "overflow_y": null,
            "padding": null,
            "right": null,
            "top": null,
            "visibility": null,
            "width": null
          }
        },
        "0e490b81cbc045169587328c3c13677d": {
          "model_module": "@jupyter-widgets/controls",
          "model_name": "DescriptionStyleModel",
          "model_module_version": "1.5.0",
          "state": {
            "_model_module": "@jupyter-widgets/controls",
            "_model_module_version": "1.5.0",
            "_model_name": "DescriptionStyleModel",
            "_view_count": null,
            "_view_module": "@jupyter-widgets/base",
            "_view_module_version": "1.2.0",
            "_view_name": "StyleView",
            "description_width": ""
          }
        },
        "c685bb9f37274950b45ca55c4d648628": {
          "model_module": "@jupyter-widgets/controls",
          "model_name": "LabelModel",
          "model_module_version": "1.5.0",
          "state": {
            "_dom_classes": [],
            "_model_module": "@jupyter-widgets/controls",
            "_model_module_version": "1.5.0",
            "_model_name": "LabelModel",
            "_view_count": null,
            "_view_module": "@jupyter-widgets/controls",
            "_view_module_version": "1.5.0",
            "_view_name": "LabelView",
            "description": "",
            "description_tooltip": null,
            "layout": "IPY_MODEL_8ff02ac21202459483f4e532f53e1616",
            "placeholder": "​",
            "style": "IPY_MODEL_8a0c819b435c4f908bdc5730837061c8",
            "value": "Kaggle credentials successfully validated."
          }
        },
        "8ff02ac21202459483f4e532f53e1616": {
          "model_module": "@jupyter-widgets/base",
          "model_name": "LayoutModel",
          "model_module_version": "1.2.0",
          "state": {
            "_model_module": "@jupyter-widgets/base",
            "_model_module_version": "1.2.0",
            "_model_name": "LayoutModel",
            "_view_count": null,
            "_view_module": "@jupyter-widgets/base",
            "_view_module_version": "1.2.0",
            "_view_name": "LayoutView",
            "align_content": null,
            "align_items": null,
            "align_self": null,
            "border": null,
            "bottom": null,
            "display": null,
            "flex": null,
            "flex_flow": null,
            "grid_area": null,
            "grid_auto_columns": null,
            "grid_auto_flow": null,
            "grid_auto_rows": null,
            "grid_column": null,
            "grid_gap": null,
            "grid_row": null,
            "grid_template_areas": null,
            "grid_template_columns": null,
            "grid_template_rows": null,
            "height": null,
            "justify_content": null,
            "justify_items": null,
            "left": null,
            "margin": null,
            "max_height": null,
            "max_width": null,
            "min_height": null,
            "min_width": null,
            "object_fit": null,
            "object_position": null,
            "order": null,
            "overflow": null,
            "overflow_x": null,
            "overflow_y": null,
            "padding": null,
            "right": null,
            "top": null,
            "visibility": null,
            "width": null
          }
        },
        "8a0c819b435c4f908bdc5730837061c8": {
          "model_module": "@jupyter-widgets/controls",
          "model_name": "DescriptionStyleModel",
          "model_module_version": "1.5.0",
          "state": {
            "_model_module": "@jupyter-widgets/controls",
            "_model_module_version": "1.5.0",
            "_model_name": "DescriptionStyleModel",
            "_view_count": null,
            "_view_module": "@jupyter-widgets/base",
            "_view_module_version": "1.2.0",
            "_view_name": "StyleView",
            "description_width": ""
          }
        }
      }
    }
  },
  "nbformat_minor": 0,
  "nbformat": 4,
  "cells": [
    {
      "cell_type": "markdown",
      "source": [
        "# Exploratory Data Analysis and Preprocessing\n"
      ],
      "metadata": {
        "id": "GZAK6ccAGj7O"
      }
    },
    {
      "source": [
        "\"\"\"import kagglehub\n",
        "kagglehub.login()\"\"\""
      ],
      "metadata": {
        "id": "FJN_hSqJSlW6",
        "colab": {
          "base_uri": "https://localhost:8080/",
          "height": 84,
          "referenced_widgets": [
            "88da03327eb34cfbaef2f9af15048f74",
            "69f511013e004750a7ef7b3b2e445ee6",
            "f764795640fa49d794b8a1412b4bb02e",
            "01f0244763e541d79321f6f87bd7c248",
            "93031d4c52914a8ea0c2db4c467a8bc8",
            "edf4b44f7b484b4d9d86766c22c52804",
            "2b429db6f6964bef88e39dc8e66a8296",
            "b73c07842faa4004b9ef2cc08e3a4fad",
            "65d054eda7b64ad1b2e36a27abb6ef0a",
            "77d9182eefe748ddabd5b1c265f6a62a",
            "a2ec8f3d59d543109f4a55eefca566e5",
            "9daf521c1eb6480faa261c2580c05045",
            "bbe9a495c5d74b63af673a9adbde3fcd",
            "610c2ff92adb48d4b33b1bb5dbd4cf66",
            "1841230a114c4767b7c1df5613e124e3",
            "3b57b44bdd10483bae4c56a9bdc28542",
            "96f831cb1b6b4e67ab7a88a8c990ddf4",
            "b790e140d83446938490b489147f895b",
            "2b3a3977316e4326ab92479e2070e1e7",
            "0e490b81cbc045169587328c3c13677d",
            "c685bb9f37274950b45ca55c4d648628",
            "8ff02ac21202459483f4e532f53e1616",
            "8a0c819b435c4f908bdc5730837061c8"
          ]
        },
        "outputId": "23cfa42e-6317-4707-cb9b-bba42d69945f"
      },
      "cell_type": "code",
      "outputs": [
        {
          "output_type": "display_data",
          "data": {
            "text/plain": [
              "VBox(children=(HTML(value='<center> <img\\nsrc=https://www.kaggle.com/static/images/site-logo.png\\nalt=\\'Kaggle…"
            ],
            "application/vnd.jupyter.widget-view+json": {
              "version_major": 2,
              "version_minor": 0,
              "model_id": "88da03327eb34cfbaef2f9af15048f74"
            }
          },
          "metadata": {}
        },
        {
          "output_type": "stream",
          "name": "stdout",
          "text": [
            "Kaggle credentials set.\n",
            "Kaggle credentials successfully validated.\n"
          ]
        }
      ],
      "execution_count": null
    },
    {
      "cell_type": "code",
      "source": [
        "\"\"\"isic_2024_challenge_path = kagglehub.competition_download('isic-2024-challenge')\"\"\""
      ],
      "metadata": {
        "id": "1ordpS38uHa4",
        "colab": {
          "base_uri": "https://localhost:8080/"
        },
        "outputId": "d111a7fe-b8b2-4536-f480-2899b82bca00"
      },
      "execution_count": null,
      "outputs": [
        {
          "output_type": "stream",
          "name": "stdout",
          "text": [
            "Downloading from https://www.kaggle.com/api/v1/competitions/data/download-all/isic-2024-challenge...\n"
          ]
        },
        {
          "output_type": "stream",
          "name": "stderr",
          "text": [
            "100%|██████████| 2.00G/2.00G [01:44<00:00, 20.5MB/s]"
          ]
        },
        {
          "output_type": "stream",
          "name": "stdout",
          "text": [
            "Extracting files...\n"
          ]
        },
        {
          "output_type": "stream",
          "name": "stderr",
          "text": [
            "\n"
          ]
        }
      ]
    },
    {
      "cell_type": "code",
      "source": [
        "##############\n",
        "# LIBRARIES\n",
        "##############\n",
        "\n",
        "import pandas as pd\n",
        "import numpy as np\n",
        "import matplotlib.pyplot as plt\n",
        "import seaborn as sns\n",
        "\n",
        "import cv2\n",
        "import matplotlib.image as mpimg\n",
        "\n",
        "from IPython.core.interactiveshell import InteractiveShell\n",
        "InteractiveShell.ast_node_interactivity = \"all\"\n",
        "\n",
        "# Row Column Settings\n",
        "pd.set_option('display.max_columns', None)\n",
        "pd.set_option('display.max_rows', None)\n",
        "pd.set_option('display.float_format', lambda x: '%.3f' % x)\n",
        "pd.set_option('display.width', 500)"
      ],
      "metadata": {
        "_uuid": "8f2839f25d086af736a60e9eeb907d3b93b6e0e5",
        "_cell_guid": "b1076dfc-b9ad-4769-8c92-a6c4dae69d19",
        "execution": {
          "iopub.status.busy": "2024-10-30T11:50:22.891815Z",
          "iopub.execute_input": "2024-10-30T11:50:22.892256Z",
          "iopub.status.idle": "2024-10-30T11:50:25.175053Z",
          "shell.execute_reply.started": "2024-10-30T11:50:22.892206Z",
          "shell.execute_reply": "2024-10-30T11:50:25.174312Z"
        },
        "trusted": true,
        "id": "5V9XnGF8SlW7"
      },
      "execution_count": null,
      "outputs": []
    },
    {
      "cell_type": "code",
      "source": [
        "##############\n",
        "# LOAD DATA\n",
        "##############\n",
        "\n",
        "train_metadata_path = f\"{isic_2024_challenge_path}/train-metadata.csv\"\n",
        "train_image_dir = f\"{isic_2024_challenge_path}/train-image\"\n",
        "\n",
        "# Read Data\n",
        "train_metadata = pd.read_csv(train_metadata_path, low_memory=False)"
      ],
      "metadata": {
        "execution": {
          "iopub.status.busy": "2024-10-30T11:50:25.176636Z",
          "iopub.execute_input": "2024-10-30T11:50:25.177018Z",
          "iopub.status.idle": "2024-10-30T11:50:25.18167Z",
          "shell.execute_reply.started": "2024-10-30T11:50:25.176984Z",
          "shell.execute_reply": "2024-10-30T11:50:25.180659Z"
        },
        "trusted": true,
        "id": "hq64gmEvSlW7",
        "colab": {
          "base_uri": "https://localhost:8080/",
          "height": 211
        },
        "outputId": "81d3637d-587c-4de2-9713-7b666b3a6c2e"
      },
      "execution_count": null,
      "outputs": [
        {
          "output_type": "error",
          "ename": "NameError",
          "evalue": "name 'isic_2024_challenge_path' is not defined",
          "traceback": [
            "\u001b[0;31m---------------------------------------------------------------------------\u001b[0m",
            "\u001b[0;31mNameError\u001b[0m                                 Traceback (most recent call last)",
            "\u001b[0;32m<ipython-input-4-689e829fdeb4>\u001b[0m in \u001b[0;36m<cell line: 5>\u001b[0;34m()\u001b[0m\n\u001b[1;32m      3\u001b[0m \u001b[0;31m##############\u001b[0m\u001b[0;34m\u001b[0m\u001b[0;34m\u001b[0m\u001b[0m\n\u001b[1;32m      4\u001b[0m \u001b[0;34m\u001b[0m\u001b[0m\n\u001b[0;32m----> 5\u001b[0;31m \u001b[0mtrain_metadata_path\u001b[0m \u001b[0;34m=\u001b[0m \u001b[0;34mf\"{isic_2024_challenge_path}/train-metadata.csv\"\u001b[0m\u001b[0;34m\u001b[0m\u001b[0;34m\u001b[0m\u001b[0m\n\u001b[0m\u001b[1;32m      6\u001b[0m \u001b[0mtrain_image_dir\u001b[0m \u001b[0;34m=\u001b[0m \u001b[0;34mf\"{isic_2024_challenge_path}/train-image\"\u001b[0m\u001b[0;34m\u001b[0m\u001b[0;34m\u001b[0m\u001b[0m\n\u001b[1;32m      7\u001b[0m \u001b[0;34m\u001b[0m\u001b[0m\n",
            "\u001b[0;31mNameError\u001b[0m: name 'isic_2024_challenge_path' is not defined"
          ]
        }
      ]
    },
    {
      "cell_type": "code",
      "source": [
        "#######\n",
        "# DROP\n",
        "#######\n",
        "\n",
        "# Variables with a high number of missing values or that do not carry significant information have been removed.\n",
        "\n",
        "drop_list = [\n",
        "    'patient_id',\n",
        "    'attribution',\n",
        "    'copyright_license',\n",
        "    'image_type',\n",
        "    'iddx_1',\n",
        "    'iddx_2',\n",
        "    'iddx_3',\n",
        "    'iddx_4',\n",
        "    'iddx_5',\n",
        "    'iddx_full',\n",
        "    'lesion_id',\n",
        "    'mel_mitotic_index',\n",
        "    'mel_thick_mm',\n",
        "    'tbp_lv_dnn_lesion_confidence'\n",
        "]\n",
        "\n",
        "train_metadata.drop(drop_list, axis=1, inplace=True)"
      ],
      "metadata": {
        "execution": {
          "iopub.status.busy": "2024-10-30T11:50:37.935447Z",
          "iopub.execute_input": "2024-10-30T11:50:37.935772Z",
          "iopub.status.idle": "2024-10-30T11:50:38.101931Z",
          "shell.execute_reply.started": "2024-10-30T11:50:37.935737Z",
          "shell.execute_reply": "2024-10-30T11:50:38.101057Z"
        },
        "trusted": true,
        "id": "aeNMt6rgSlW8"
      },
      "execution_count": null,
      "outputs": []
    },
    {
      "cell_type": "markdown",
      "source": [
        "## Data Analysis"
      ],
      "metadata": {
        "id": "T9TqDW3hGYiu"
      }
    },
    {
      "cell_type": "code",
      "source": [
        "percentiles = [0.10, 0.25, 0.30, 0.40, 0.60, 0.70, 0.80, 0.85, 0.90, 0.95, 0.99]\n",
        "train_metadata.describe(percentiles = percentiles).T.style.background_gradient(axis=0, cmap='coolwarm')"
      ],
      "metadata": {
        "execution": {
          "iopub.status.busy": "2024-10-30T11:50:39.634806Z",
          "iopub.execute_input": "2024-10-30T11:50:39.635134Z",
          "iopub.status.idle": "2024-10-30T11:50:40.389462Z",
          "shell.execute_reply.started": "2024-10-30T11:50:39.635082Z",
          "shell.execute_reply": "2024-10-30T11:50:40.388461Z"
        },
        "trusted": true,
        "id": "I_NFqK4kSlW8"
      },
      "execution_count": null,
      "outputs": []
    },
    {
      "cell_type": "code",
      "source": [
        "#############\n",
        "## CORR MATRIX\n",
        "#############\n",
        "\n",
        "num_cols = train_metadata.select_dtypes(include=[np.number]).columns.tolist()\n",
        "corr = train_metadata[num_cols].corr()\n",
        "plt.figure(figsize=(25, 10))\n",
        "\n",
        "mask = np.triu(np.ones_like(corr, dtype=bool))\n",
        "\n",
        "ax = sns.heatmap(corr, mask=mask, annot=True, fmt=\".2f\", linewidths=0.5,\n",
        "                 cmap='coolwarm', vmin=-1, vmax=1, cbar_kws={\"shrink\": .8},\n",
        "                 xticklabels=corr.columns, yticklabels=corr.columns)\n",
        "\n",
        "plt.title('Correlation Matrix', fontsize=20, fontweight='bold', color='darkblue')\n",
        "plt.xticks(fontsize=12, rotation=45, ha='right')\n",
        "plt.yticks(fontsize=12, rotation=0)\n",
        "plt.xlabel('Variables', fontsize=14, fontweight='bold', color='black')\n",
        "plt.ylabel('Variables', fontsize=14, fontweight='bold', color='black')\n",
        "\n",
        "cbar = ax.collections[0].colorbar\n",
        "cbar.ax.tick_params(labelsize=12)\n",
        "\n",
        "plt.tight_layout()\n",
        "plt.show();"
      ],
      "metadata": {
        "execution": {
          "iopub.status.busy": "2024-10-30T11:50:40.390932Z",
          "iopub.execute_input": "2024-10-30T11:50:40.391369Z",
          "iopub.status.idle": "2024-10-30T11:50:43.741759Z",
          "shell.execute_reply.started": "2024-10-30T11:50:40.391331Z",
          "shell.execute_reply": "2024-10-30T11:50:43.740843Z"
        },
        "trusted": true,
        "id": "-y-6XhzPSlW8"
      },
      "execution_count": null,
      "outputs": []
    },
    {
      "cell_type": "code",
      "source": [
        "# High Correlations\n",
        "\n",
        "threshold = 0.9\n",
        "\n",
        "for i in range(len(corr.columns)):\n",
        "    for j in range(i):\n",
        "        if abs(corr.iloc[i, j]) > threshold:\n",
        "            correlation_value = corr.iloc[i, j]\n",
        "            var1 = corr.columns[i]\n",
        "            var2 = corr.columns[j]\n",
        "            color = \"\\033[93m\"\n",
        "            reset_color = \"\\033[0m\"\n",
        "            print(f\"{color}{var1} ve {var2}: {correlation_value:.2f}{reset_color}\")"
      ],
      "metadata": {
        "execution": {
          "iopub.status.busy": "2024-10-30T11:50:43.742982Z",
          "iopub.execute_input": "2024-10-30T11:50:43.743351Z",
          "iopub.status.idle": "2024-10-30T11:50:43.771232Z",
          "shell.execute_reply.started": "2024-10-30T11:50:43.74331Z",
          "shell.execute_reply": "2024-10-30T11:50:43.77029Z"
        },
        "trusted": true,
        "id": "YwGPCKZjSlW8"
      },
      "execution_count": null,
      "outputs": []
    },
    {
      "cell_type": "code",
      "source": [
        "#######\n",
        "# DROP\n",
        "#######\n",
        "\n",
        "# Variables with high correlation or those that are derived from each other have been dropped.\n",
        "\n",
        "unnec_list = [\n",
        "    'tbp_lv_Bext',\n",
        "    'tbp_lv_Cext',\n",
        "    'tbp_lv_Lext',\n",
        "    'tbp_lv_deltaLB',\n",
        "    'tbp_lv_deltaLBnorm',\n",
        "    'tbp_lv_stdL',\n",
        "    'tbp_lv_norm_color',\n",
        "    'tbp_lv_location'\n",
        "]\n",
        "\n",
        "train_metadata.drop(unnec_list, axis=1, inplace=True)"
      ],
      "metadata": {
        "execution": {
          "iopub.status.busy": "2024-10-30T11:50:43.772607Z",
          "iopub.execute_input": "2024-10-30T11:50:43.773277Z",
          "iopub.status.idle": "2024-10-30T11:50:43.825038Z",
          "shell.execute_reply.started": "2024-10-30T11:50:43.77323Z",
          "shell.execute_reply": "2024-10-30T11:50:43.823962Z"
        },
        "trusted": true,
        "id": "vL99W7EhSlW8"
      },
      "execution_count": null,
      "outputs": []
    },
    {
      "cell_type": "code",
      "source": [
        "#############\n",
        "# COUNTPLOT\n",
        "#############\n",
        "\n",
        "variables_to_plot = ['target', 'sex', 'anatom_site_general', 'tbp_tile_type', 'tbp_lv_location_simple']\n",
        "\n",
        "num_columns = 3\n",
        "num_rows = (len(variables_to_plot) + num_columns - 1) // num_columns\n",
        "\n",
        "fig, axes = plt.subplots(num_rows, num_columns, figsize=(18, 5 * num_rows))\n",
        "palette = sns.color_palette(\"deep\")\n",
        "\n",
        "for i, column in enumerate(variables_to_plot):\n",
        "    ax = axes[i // num_columns, i % num_columns]\n",
        "    sns.countplot(data=train_metadata, x=column, ax=ax, palette=palette)\n",
        "\n",
        "    ax.set_title(column, fontsize=12, fontweight='bold')\n",
        "    ax.set_ylabel('Count', fontsize=8)\n",
        "    ax.set_xlabel('Categories', fontsize=8)\n",
        "\n",
        "    ax.tick_params(axis='x', rotation=45)\n",
        "\n",
        "    total = len(train_metadata)\n",
        "    for p in ax.patches:\n",
        "        count = p.get_height()\n",
        "        percentage = count / total * 100\n",
        "        ax.annotate(f'({percentage:.1f}%)',\n",
        "                    (p.get_x() + p.get_width() / 2., count),\n",
        "                    ha='center', va='bottom', fontsize=10, fontweight='bold')\n",
        "\n",
        "    ax.grid(axis='y', linestyle='--', alpha=0.7)\n",
        "\n",
        "for j in range(i + 1, num_rows * num_columns):\n",
        "    fig.delaxes(axes.flatten()[j])\n",
        "\n",
        "plt.tight_layout()\n",
        "plt.suptitle('Count of Selected Variables', fontsize=16, fontweight='bold', y=1.02)\n",
        "plt.show();"
      ],
      "metadata": {
        "id": "FqczABBEomAE"
      },
      "execution_count": null,
      "outputs": []
    },
    {
      "cell_type": "markdown",
      "source": [
        "## Visualization"
      ],
      "metadata": {
        "id": "9dHxZLnYKf7p"
      }
    },
    {
      "cell_type": "code",
      "source": [
        "##################\n",
        "# TRAIN IMG PATHS\n",
        "##################\n",
        "\n",
        "def get_images_path(image_dir):\n",
        "    images_path = {}\n",
        "    for root, dirs, files in os.walk(image_dir):\n",
        "        for file in files:\n",
        "            if file.endswith('.jpg'):\n",
        "                image_id = os.path.splitext(file)[0]\n",
        "                image_path = os.path.join(root, file)\n",
        "                images_path[image_id] = image_path\n",
        "    return images_path\n",
        "\n",
        "images_path = get_images_path(train_image_dir)\n",
        "train_metadata['img_paths'] = train_metadata['isic_id'].map(images_path)"
      ],
      "metadata": {
        "execution": {
          "iopub.status.busy": "2024-10-30T11:50:43.826384Z",
          "iopub.execute_input": "2024-10-30T11:50:43.826834Z",
          "iopub.status.idle": "2024-10-30T11:53:41.249985Z",
          "shell.execute_reply.started": "2024-10-30T11:50:43.826786Z",
          "shell.execute_reply": "2024-10-30T11:53:41.249005Z"
        },
        "trusted": true,
        "id": "9-RKA4zMSlW9"
      },
      "execution_count": null,
      "outputs": []
    },
    {
      "cell_type": "code",
      "source": [
        "################################\n",
        "# IMAGE TRANFORMATION TECHNIQUES\n",
        "################################\n",
        "\n",
        "#Aim to improve the robustness and performance of the model by providing varied representations of the input images\n",
        "\n",
        "selected_ids = ['ISIC_4851249', 'ISIC_3646371', 'ISIC_3149970', 'ISIC_6286734']\n",
        "selected_img_path = train_metadata.loc[train_metadata['isic_id'].isin(selected_ids), 'img_paths']\n",
        "\n",
        "\n",
        "def apply_transformations(image_paths):\n",
        "    fig, axes = plt.subplots(nrows=5, ncols=4, figsize=(10, 15))\n",
        "    methods = [\"Without Gaussian Blur\", \"With Gaussian Blur\", \"Hue, Saturation, Brightness\", \"LUV Color Space\", \"Greyscale + Gaussian Blur\"]\n",
        "\n",
        "    for index, method in enumerate(methods):\n",
        "        for i, path in enumerate(image_paths):\n",
        "            image = cv2.imread(path)\n",
        "\n",
        "            if image is None:\n",
        "                print(f\"Image at {path} could not be loaded.\")\n",
        "                continue\n",
        "\n",
        "            if method == \"Without Gaussian Blur\":\n",
        "                transformed_image = cv2.cvtColor(image, cv2.COLOR_BGR2HSV)\n",
        "                transformed_image = cv2.resize(transformed_image, (200, 200))\n",
        "\n",
        "            elif method == \"With Gaussian Blur\":\n",
        "                transformed_image = cv2.cvtColor(image, cv2.COLOR_BGR2HSV)\n",
        "                transformed_image = cv2.resize(transformed_image, (200, 200))\n",
        "                transformed_image = cv2.addWeighted(transformed_image, 4, cv2.GaussianBlur(transformed_image, (0, 0), 256/10), -4, 128)\n",
        "\n",
        "            elif method == \"Hue, Saturation, Brightness\":\n",
        "                transformed_image = cv2.cvtColor(image, cv2.COLOR_BGR2HLS)\n",
        "                transformed_image = cv2.resize(transformed_image, (200, 200))\n",
        "\n",
        "            elif method == \"LUV Color Space\":\n",
        "                transformed_image = cv2.cvtColor(image, cv2.COLOR_BGR2LUV)\n",
        "                transformed_image = cv2.resize(transformed_image, (200, 200))\n",
        "\n",
        "            elif method == \"Greyscale + Gaussian Blur\":\n",
        "                transformed_image = cv2.cvtColor(image, cv2.COLOR_BGR2GRAY)\n",
        "                transformed_image = cv2.resize(transformed_image, (200, 200))\n",
        "                transformed_image = cv2.GaussianBlur(transformed_image, (5, 5), 0)\n",
        "\n",
        "            axes[index, i].imshow(transformed_image, cmap=plt.cm.bone if len(transformed_image.shape) == 2 else None)\n",
        "            axes[index, i].axis('off')\n",
        "            axes[index, i].set_title(method, fontsize=8)\n",
        "\n",
        "    plt.tight_layout()\n",
        "    plt.show()\n",
        "\n",
        "\n",
        "apply_transformations(selected_img_path)"
      ],
      "metadata": {
        "id": "s3OeMbmHVRJ7"
      },
      "execution_count": null,
      "outputs": []
    },
    {
      "cell_type": "code",
      "source": [
        "#############\n",
        "# HAIR REMOVE\n",
        "#############\n",
        "\n",
        "all_image_paths = train_metadata['img_paths'].tolist()\n",
        "image_hair = np.array(all_image_paths)[[13, 9473, 267, 167, 87, 13]]\n",
        "\n",
        "\n",
        "plt.figure(figsize=(16,3))\n",
        "plt.suptitle(\"Original Images\", fontsize = 16)\n",
        "\n",
        "for k, path in enumerate(image_hair[:6]):\n",
        "    image = mpimg.imread(path)\n",
        "    image = cv2.resize(image,(300, 300))\n",
        "\n",
        "    plt.subplot(1, 6, k+1)\n",
        "    plt.imshow(image)\n",
        "    plt.axis('off')\n",
        "\n",
        "\n",
        "#####################################\n",
        "\n",
        "\n",
        "def hair_remove(image):\n",
        "    grayScale = cv2.cvtColor(image, cv2.COLOR_RGB2GRAY)\n",
        "    kernel = cv2.getStructuringElement(1,(17,17))\n",
        "    blackhat = cv2.morphologyEx(grayScale, cv2.MORPH_BLACKHAT, kernel)\n",
        "    _, threshold = cv2.threshold(blackhat, 10, 255, cv2.THRESH_BINARY)\n",
        "    final_image = cv2.inpaint(image, threshold, 1, cv2.INPAINT_TELEA)\n",
        "\n",
        "    return final_image\n",
        "\n",
        "\n",
        "plt.figure(figsize=(16,3))\n",
        "plt.suptitle(\"Non Hairy Images\", fontsize = 16)\n",
        "\n",
        "for k, path in enumerate(image_hair):\n",
        "    image = mpimg.imread(path)\n",
        "    image = cv2.resize(image,(300, 300))\n",
        "    image = hair_remove(image)\n",
        "\n",
        "    plt.subplot(1, 6, k+1)\n",
        "    plt.imshow(image)\n",
        "    plt.axis('off')"
      ],
      "metadata": {
        "id": "Zhk57tB1mUMg"
      },
      "execution_count": null,
      "outputs": []
    },
    {
      "cell_type": "code",
      "source": [
        "########\n",
        "# DROP\n",
        "########\n",
        "\n",
        "final_drop = [\"isic_id\", \"tbp_lv_location_simple\"]\n",
        "train_metadata.drop(final_drop, axis=1, inplace=True)"
      ],
      "metadata": {
        "id": "VwKkn4GUmnLW"
      },
      "execution_count": null,
      "outputs": []
    },
    {
      "cell_type": "code",
      "source": [
        "##############\n",
        "# EXPORT DATA\n",
        "##############\n",
        "\n",
        "file_path = '/content/drive/MyDrive/Skin Cancer Detection/exploratory_data_analysis.csv'\n",
        "train_metadata.to_csv(file_path, index=False)"
      ],
      "metadata": {
        "id": "nUbB2d8_NJDk"
      },
      "execution_count": null,
      "outputs": []
    }
  ]
}